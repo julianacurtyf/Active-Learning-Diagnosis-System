{
  "nbformat": 4,
  "nbformat_minor": 0,
  "metadata": {
    "colab": {
      "name": "AI Project",
      "provenance": [],
      "collapsed_sections": []
    },
    "kernelspec": {
      "display_name": "Python 3",
      "name": "python3"
    },
    "language_info": {
      "name": "python"
    }
  },
  "cells": [
    {
      "cell_type": "markdown",
      "metadata": {
        "id": "TAgF6Q3diGfm"
      },
      "source": [
        "# AI\n"
      ]
    },
    {
      "cell_type": "markdown",
      "metadata": {
        "id": "jn_Givjlwg8i"
      },
      "source": [
        "### Instalação e importação das bibliotecas e importação do dataset"
      ]
    },
    {
      "cell_type": "code",
      "metadata": {
        "colab": {
          "base_uri": "https://localhost:8080/"
        },
        "id": "wFxea9g9DXvS",
        "outputId": "d7401240-43da-42ad-88c7-58bafd6d028a"
      },
      "source": [
        "pip install modAL"
      ],
      "execution_count": null,
      "outputs": [
        {
          "output_type": "stream",
          "name": "stdout",
          "text": [
            "Collecting modAL\n",
            "  Downloading modAL-0.4.1-py3-none-any.whl (27 kB)\n",
            "Requirement already satisfied: numpy>=1.13 in /usr/local/lib/python3.7/dist-packages (from modAL) (1.19.5)\n",
            "Requirement already satisfied: scipy>=0.18 in /usr/local/lib/python3.7/dist-packages (from modAL) (1.4.1)\n",
            "Requirement already satisfied: pandas>=1.1.0 in /usr/local/lib/python3.7/dist-packages (from modAL) (1.1.5)\n",
            "Requirement already satisfied: scikit-learn>=0.18 in /usr/local/lib/python3.7/dist-packages (from modAL) (1.0.1)\n",
            "Requirement already satisfied: python-dateutil>=2.7.3 in /usr/local/lib/python3.7/dist-packages (from pandas>=1.1.0->modAL) (2.8.2)\n",
            "Requirement already satisfied: pytz>=2017.2 in /usr/local/lib/python3.7/dist-packages (from pandas>=1.1.0->modAL) (2018.9)\n",
            "Requirement already satisfied: six>=1.5 in /usr/local/lib/python3.7/dist-packages (from python-dateutil>=2.7.3->pandas>=1.1.0->modAL) (1.15.0)\n",
            "Requirement already satisfied: joblib>=0.11 in /usr/local/lib/python3.7/dist-packages (from scikit-learn>=0.18->modAL) (1.1.0)\n",
            "Requirement already satisfied: threadpoolctl>=2.0.0 in /usr/local/lib/python3.7/dist-packages (from scikit-learn>=0.18->modAL) (3.0.0)\n",
            "Installing collected packages: modAL\n",
            "Successfully installed modAL-0.4.1\n"
          ]
        }
      ]
    },
    {
      "cell_type": "code",
      "metadata": {
        "colab": {
          "base_uri": "https://localhost:8080/"
        },
        "id": "NPa8Zt06uTul",
        "outputId": "d91b282d-03b9-4b6c-d33e-afd4c92cf07e"
      },
      "source": [
        "pip install skorch"
      ],
      "execution_count": null,
      "outputs": [
        {
          "output_type": "stream",
          "name": "stdout",
          "text": [
            "Collecting skorch\n",
            "  Downloading skorch-0.11.0-py3-none-any.whl (155 kB)\n",
            "\u001b[K     |████████████████████████████████| 155 kB 2.7 MB/s \n",
            "\u001b[?25hRequirement already satisfied: tqdm>=4.14.0 in /usr/local/lib/python3.7/dist-packages (from skorch) (4.62.3)\n",
            "Requirement already satisfied: numpy>=1.13.3 in /usr/local/lib/python3.7/dist-packages (from skorch) (1.19.5)\n",
            "Requirement already satisfied: scipy>=1.1.0 in /usr/local/lib/python3.7/dist-packages (from skorch) (1.4.1)\n",
            "Requirement already satisfied: tabulate>=0.7.7 in /usr/local/lib/python3.7/dist-packages (from skorch) (0.8.9)\n",
            "Requirement already satisfied: scikit-learn>=0.19.1 in /usr/local/lib/python3.7/dist-packages (from skorch) (1.0.1)\n",
            "Requirement already satisfied: joblib>=0.11 in /usr/local/lib/python3.7/dist-packages (from scikit-learn>=0.19.1->skorch) (1.1.0)\n",
            "Requirement already satisfied: threadpoolctl>=2.0.0 in /usr/local/lib/python3.7/dist-packages (from scikit-learn>=0.19.1->skorch) (3.0.0)\n",
            "Installing collected packages: skorch\n",
            "Successfully installed skorch-0.11.0\n"
          ]
        }
      ]
    },
    {
      "cell_type": "code",
      "metadata": {
        "id": "CEblB8nPKIIp"
      },
      "source": [
        "import pandas as pd\n",
        "import numpy as np\n",
        "import torch\n",
        "from torch import nn\n",
        "from skorch import NeuralNetClassifier\n",
        "from torch.utils.data import DataLoader, Dataset\n",
        "from torchvision.transforms import ToTensor\n",
        "import tensorflow as tf\n",
        "from modAL.models import ActiveLearner\n",
        "import os"
      ],
      "execution_count": null,
      "outputs": []
    },
    {
      "cell_type": "code",
      "metadata": {
        "colab": {
          "base_uri": "https://localhost:8080/"
        },
        "id": "74djepwMuDyr",
        "outputId": "1ce151b9-4eb0-4c7a-8cb0-a5443c94b3e1"
      },
      "source": [
        "from google.colab import drive\n",
        "drive.mount('/content/drive')\n",
        "\n",
        "# Adapt the path before running\n",
        "\n",
        "# Import and pre-processing of data.\n",
        "\n",
        "# Part of the code is commented out so it is not necessary to process the data \n",
        "# every time you run the program. We have already done the import of the data \n",
        "# processed afterwards.\n",
        "\n",
        "\n",
        "# dataset = get_files('dataset.csv')\n",
        "# weights = get_files('Symptom-severity.csv')\n",
        "\n",
        "# df = reshape_dataset(dataset, weights)\n",
        "# target = reshape_target(dataset)\n",
        "\n",
        "##df = get_files('pro.csv')\n",
        "##target = get_files('target.csv')\n",
        "\n",
        "# dataset = pd.read_csv(\"/content/drive/MyDrive/Colab Notebooks/AI/dataset.csv\")\n",
        "\n",
        "# weights = pd.read_csv(\"/content/drive/MyDrive/Colab Notebooks/AI/Symptom-severity.csv\")\n",
        "\n",
        "df = pd.read_csv(\n",
        "   \"/content/drive/MyDrive/Colab Notebooks/AI/pro.csv\") # nao precisa correr o processamento toda vez\n",
        "\n",
        "target = pd.read_csv(\n",
        "   \"/content/drive/MyDrive/Colab Notebooks/AI/target.csv\") # nao precisa correr o processamento toda vez"
      ],
      "execution_count": null,
      "outputs": [
        {
          "output_type": "stream",
          "name": "stdout",
          "text": [
            "Drive already mounted at /content/drive; to attempt to forcibly remount, call drive.mount(\"/content/drive\", force_remount=True).\n"
          ]
        }
      ]
    },
    {
      "cell_type": "markdown",
      "metadata": {
        "id": "kgJp-LUIxHtA"
      },
      "source": [
        "### Definição das funções"
      ]
    },
    {
      "cell_type": "code",
      "metadata": {
        "id": "pfZpejimwVKz"
      },
      "source": [
        "def get_files(name):\n",
        "    \"\"\" ... \"\"\" \n",
        "\n",
        "    home_dir = os.getcwd()\n",
        "    file = pd.read_csv(os.path.join(home_dir, name))\n",
        "    \n",
        "    return file"
      ],
      "execution_count": null,
      "outputs": []
    },
    {
      "cell_type": "code",
      "metadata": {
        "id": "Py_-2oq6NPRW"
      },
      "source": [
        "def reshape_dataset(dataset, weights):\n",
        "\n",
        "    a = weights['Symptom'].unique()\n",
        "    \n",
        "    df = pd.DataFrame(index = np.arange(dataset.shape[0]),columns = a)\n",
        "    del df['Disease']\n",
        "    df = df.fillna(0)\n",
        "    \n",
        "    for j in range(len(dataset) - 1):\n",
        "      for symp in a: \n",
        "        if symp in dataset.loc[j].str.strip().values:\n",
        "          weigth = weights.loc[lambda s: weights['Symptom'] == symp]\n",
        "          df[symp][j] = 1 * weigth['weight'].values[0]\n",
        "\n",
        "    return df"
      ],
      "execution_count": null,
      "outputs": []
    },
    {
      "cell_type": "code",
      "metadata": {
        "id": "hF6EFdPcedJA"
      },
      "source": [
        "def reshape_target(dataset):\n",
        "    \n",
        "    a = dataset['Disease'].unique()\n",
        "    a = [i.strip() for i in a]\n",
        "\n",
        "    disease_values = pd.DataFrame(np.arange(len(a)), index = a).transpose()\n",
        "\n",
        "    df_target = pd.DataFrame()\n",
        "\n",
        "    for j in range(dataset.shape[0]):\n",
        "      for targ in a: \n",
        "        if targ in dataset['Disease'].loc[j].strip():\n",
        "          df_target = df_target.append(disease_values[targ])\n",
        "\n",
        "    return df_target, disease_values"
      ],
      "execution_count": null,
      "outputs": []
    },
    {
      "cell_type": "code",
      "metadata": {
        "id": "GE0lKFPqwRYn"
      },
      "source": [
        "def save_file(df,name):\n",
        "    \n",
        "    home_dir = \"/content/drive/MyDrive/Colab Notebooks/AI/\"\n",
        "    df.to_csv(os.path.join(home_dir, name+ '.csv'))"
      ],
      "execution_count": null,
      "outputs": []
    },
    {
      "cell_type": "code",
      "metadata": {
        "id": "yXmmphSniXgu"
      },
      "source": [
        "def data_preprocessing(df, target):\n",
        "    target = target.drop(columns=target.columns[0])\n",
        "    target = target.astype(int)\n",
        "    target = target['0']\n",
        "    df = df.drop(columns ='Unnamed: 0')\n",
        "    return df, target"
      ],
      "execution_count": null,
      "outputs": []
    },
    {
      "cell_type": "code",
      "metadata": {
        "id": "W0fziJjmoa3B"
      },
      "source": [
        "def train_test_split(X, y, percentage):\n",
        "\n",
        "    idx = int(X.shape[0]*(1-percentage))\n",
        "\n",
        "    X_train, X_test, y_train, y_test = X[:idx], X[idx:], y[:idx], y[idx:]\n",
        "\n",
        "    X_train = X_train.reshape(idx, 1, X.shape[1]) \n",
        " \n",
        "    X_test = X_test.reshape(X.shape[0]-idx, 1, X.shape[1]) \n",
        "\n",
        "    return X_train, X_test, y_train, y_test"
      ],
      "execution_count": null,
      "outputs": []
    },
    {
      "cell_type": "code",
      "metadata": {
        "id": "O3WPnZi_odAq"
      },
      "source": [
        "def initial_data_assemble(X_train, y_train, n_initial):\n",
        "\n",
        "    # assemble initial data\n",
        "\n",
        "    initial_idx = np.random.choice(range(len(X_train)), size = n_initial, replace = False)\n",
        "    X_initial = X_train[initial_idx] \n",
        "    y_initial = y_train[initial_idx].astype(int)\n",
        "\n",
        "    return initial_idx, X_initial, y_initial"
      ],
      "execution_count": null,
      "outputs": []
    },
    {
      "cell_type": "code",
      "metadata": {
        "id": "Yb8WwShVoe_Q"
      },
      "source": [
        "def generate_pool(X_train, y_train, initial_idx):\n",
        "\n",
        "    # generate the pool\n",
        "    # remove the initial data from the training dataset\n",
        "\n",
        "    idx = int(X_train.shape[0]*0.1)\n",
        "\n",
        "    X_pool = np.delete(X_train, initial_idx, axis = 0)[:idx]\n",
        "    y_pool = np.delete(y_train, initial_idx, axis = 0)[:idx]    \n",
        "\n",
        "    return X_pool, y_pool"
      ],
      "execution_count": null,
      "outputs": []
    },
    {
      "cell_type": "markdown",
      "metadata": {
        "id": "vpHjQgl4xRMG"
      },
      "source": [
        "### Classifier"
      ]
    },
    {
      "cell_type": "code",
      "metadata": {
        "id": "7HGI2pyeenNF"
      },
      "source": [
        "# target, values = reshape_target(dataset)"
      ],
      "execution_count": null,
      "outputs": []
    },
    {
      "cell_type": "code",
      "metadata": {
        "id": "bq_dFpkRpBhG"
      },
      "source": [
        "# build class for the skorch API\n",
        "class Torch_Model(nn.Module):\n",
        "    def __init__(self):\n",
        "        super().__init__()\n",
        "        self.fcs = nn.Sequential(\n",
        "                                nn.Linear(131, 64),\n",
        "                                nn.Linear(64, 41), \n",
        "        )\n",
        "\n",
        "    def forward(self, x):\n",
        "        out = x\n",
        "        out = self.fcs(out)\n",
        "        out = out.view(-1, 41)\n",
        "\n",
        "        return out"
      ],
      "execution_count": null,
      "outputs": []
    },
    {
      "cell_type": "code",
      "metadata": {
        "id": "71EQLg8SuvHb"
      },
      "source": [
        "# create the classifier\n",
        "device = \"cuda\" if torch.cuda.is_available() else \"cpu\"\n",
        "classifier = NeuralNetClassifier(Torch_Model,\n",
        "                                criterion = nn.CrossEntropyLoss,\n",
        "                                 optimizer = torch.optim.Adam,\n",
        "                                 train_split = None,\n",
        "                                 verbose = 1,\n",
        "                                 device = device)"
      ],
      "execution_count": null,
      "outputs": []
    },
    {
      "cell_type": "code",
      "metadata": {
        "id": "W_NwUHeWOkJo"
      },
      "source": [
        "df_preprocessed, target_preprocessed = data_preprocessing(df, target)\n",
        "\n",
        "df_tensor = torch.utils.data.TensorDataset(torch.Tensor(np.array(df_preprocessed)), torch.Tensor(target_preprocessed))\n",
        " \n",
        "dataloader = DataLoader(df_tensor, shuffle = True, batch_size = df.shape[0]) # batch_size = how many samples per batch to load (default: 1)\n",
        "X, y = next(iter(dataloader))\n",
        "X = X.detach().cpu().numpy()\n",
        "y = y.detach().cpu().numpy()"
      ],
      "execution_count": null,
      "outputs": []
    },
    {
      "cell_type": "code",
      "metadata": {
        "id": "DLAHU-Ehy-xe"
      },
      "source": [
        "X_train, X_test, y_train, y_test = train_test_split(X, y, 0.2)\n",
        "\n",
        "initial_idx, X_initial, y_initial = initial_data_assemble(X_train, y_train, 10)\n",
        "\n",
        "X_pool, y_pool = generate_pool(X_train, y_train, initial_idx)"
      ],
      "execution_count": null,
      "outputs": []
    },
    {
      "cell_type": "code",
      "metadata": {
        "colab": {
          "base_uri": "https://localhost:8080/"
        },
        "id": "ijx57_a7g2l8",
        "outputId": "3e7d632c-772d-4f37-ef68-b19f12411947"
      },
      "source": [
        "from modAL.uncertainty import entropy_sampling\n",
        "\n",
        "learner = ActiveLearner(\n",
        "    estimator = classifier,\n",
        "    X_training = X_initial, \n",
        "    y_training = y_initial,\n",
        "    query_strategy = entropy_sampling, \n",
        "    epochs = 30\n",
        ")\n",
        "\n",
        "accuracy = learner.score(X_train, y_train)\n",
        "t_accuracy = learner.score(X_test, y_test)"
      ],
      "execution_count": null,
      "outputs": [
        {
          "output_type": "stream",
          "name": "stdout",
          "text": [
            "Re-initializing module.\n",
            "Re-initializing criterion.\n",
            "Re-initializing optimizer.\n",
            "  epoch    train_loss     dur\n",
            "-------  ------------  ------\n",
            "      1        \u001b[36m3.6413\u001b[0m  0.0058\n",
            "      2        \u001b[36m2.5472\u001b[0m  0.0065\n",
            "      3        \u001b[36m1.6751\u001b[0m  0.0024\n",
            "      4        \u001b[36m1.0438\u001b[0m  0.0025\n",
            "      5        \u001b[36m0.5861\u001b[0m  0.0024\n",
            "      6        \u001b[36m0.3011\u001b[0m  0.0025\n",
            "      7        \u001b[36m0.1540\u001b[0m  0.0025\n",
            "      8        \u001b[36m0.0802\u001b[0m  0.0025\n",
            "      9        \u001b[36m0.0451\u001b[0m  0.0026\n",
            "     10        \u001b[36m0.0285\u001b[0m  0.0028\n",
            "     11        \u001b[36m0.0184\u001b[0m  0.0030\n",
            "     12        \u001b[36m0.0116\u001b[0m  0.0030\n",
            "     13        \u001b[36m0.0074\u001b[0m  0.0027\n",
            "     14        \u001b[36m0.0050\u001b[0m  0.0027\n",
            "     15        \u001b[36m0.0037\u001b[0m  0.0030\n",
            "     16        \u001b[36m0.0027\u001b[0m  0.0038\n",
            "     17        \u001b[36m0.0021\u001b[0m  0.0029\n",
            "     18        \u001b[36m0.0015\u001b[0m  0.0025\n",
            "     19        \u001b[36m0.0012\u001b[0m  0.0049\n",
            "     20        \u001b[36m0.0009\u001b[0m  0.0032\n",
            "     21        \u001b[36m0.0006\u001b[0m  0.0028\n",
            "     22        \u001b[36m0.0005\u001b[0m  0.0030\n",
            "     23        \u001b[36m0.0004\u001b[0m  0.0047\n",
            "     24        \u001b[36m0.0003\u001b[0m  0.0058\n",
            "     25        \u001b[36m0.0002\u001b[0m  0.0034\n",
            "     26        \u001b[36m0.0002\u001b[0m  0.0071\n",
            "     27        \u001b[36m0.0002\u001b[0m  0.0037\n",
            "     28        \u001b[36m0.0001\u001b[0m  0.0040\n",
            "     29        \u001b[36m0.0001\u001b[0m  0.0052\n",
            "     30        \u001b[36m0.0001\u001b[0m  0.0035\n"
          ]
        }
      ]
    },
    {
      "cell_type": "code",
      "metadata": {
        "colab": {
          "base_uri": "https://localhost:8080/"
        },
        "id": "7doISbchOmox",
        "outputId": "7a1d75ee-8ff5-4f50-d3de-ea38e219f5d0"
      },
      "source": [
        "# the active learning loop\n",
        "accuracy_historial = [accuracy]\n",
        "test_accuracy = [t_accuracy]\n",
        "\n",
        "n_queries = 10\n",
        "\n",
        "for idx in range(n_queries):\n",
        "    print('Query no. %d' % (idx + 1))\n",
        "    query_idx, query_instance = learner.query(X_pool, 10)  \n",
        "    learner.teach(\n",
        "    X = X_pool[query_idx], y = y_pool[query_idx].astype(int), epochs = 40)\n",
        "    \n",
        "    accuracy_historial.append(learner.score(X_train, y_train))\n",
        "    test_accuracy.append(learner.score(X_test, y_test))\n",
        "\n",
        "    # remove queried instance from pool\n",
        "    X_pool = np.delete(X_pool, query_idx, axis =  0)\n",
        "    y_pool = np.delete(y_pool, query_idx, axis = 0)\n",
        "\n",
        "prediction = learner.predict_proba(X_test)"
      ],
      "execution_count": null,
      "outputs": [
        {
          "output_type": "stream",
          "name": "stdout",
          "text": [
            "Query no. 1\n",
            "Re-initializing module.\n",
            "Re-initializing criterion.\n",
            "Re-initializing optimizer.\n",
            "  epoch    train_loss     dur\n",
            "-------  ------------  ------\n",
            "      1        \u001b[36m3.8050\u001b[0m  0.0020\n",
            "      2        \u001b[36m2.9535\u001b[0m  0.0035\n",
            "      3        \u001b[36m2.1989\u001b[0m  0.0036\n",
            "      4        \u001b[36m1.5757\u001b[0m  0.0033\n",
            "      5        \u001b[36m1.0881\u001b[0m  0.0032\n",
            "      6        \u001b[36m0.7259\u001b[0m  0.0031\n",
            "      7        \u001b[36m0.4727\u001b[0m  0.0027\n",
            "      8        \u001b[36m0.3052\u001b[0m  0.0032\n",
            "      9        \u001b[36m0.1934\u001b[0m  0.0028\n",
            "     10        \u001b[36m0.1141\u001b[0m  0.0040\n",
            "     11        \u001b[36m0.0620\u001b[0m  0.0040\n",
            "     12        \u001b[36m0.0337\u001b[0m  0.0034\n",
            "     13        \u001b[36m0.0198\u001b[0m  0.0045\n",
            "     14        \u001b[36m0.0125\u001b[0m  0.0044\n",
            "     15        \u001b[36m0.0081\u001b[0m  0.0047\n",
            "     16        \u001b[36m0.0051\u001b[0m  0.0053\n",
            "     17        \u001b[36m0.0032\u001b[0m  0.0049\n",
            "     18        \u001b[36m0.0021\u001b[0m  0.0031\n",
            "     19        \u001b[36m0.0015\u001b[0m  0.0053\n",
            "     20        \u001b[36m0.0011\u001b[0m  0.0057\n",
            "     21        \u001b[36m0.0009\u001b[0m  0.0034\n",
            "     22        \u001b[36m0.0008\u001b[0m  0.0055\n",
            "     23        \u001b[36m0.0007\u001b[0m  0.0039\n",
            "     24        \u001b[36m0.0006\u001b[0m  0.0043\n",
            "     25        \u001b[36m0.0005\u001b[0m  0.0033\n",
            "     26        \u001b[36m0.0005\u001b[0m  0.0043\n",
            "     27        \u001b[36m0.0004\u001b[0m  0.0047\n",
            "     28        \u001b[36m0.0003\u001b[0m  0.0076\n",
            "     29        \u001b[36m0.0003\u001b[0m  0.0040\n",
            "     30        \u001b[36m0.0002\u001b[0m  0.0034\n",
            "     31        \u001b[36m0.0002\u001b[0m  0.0042\n",
            "     32        \u001b[36m0.0002\u001b[0m  0.0055\n",
            "     33        \u001b[36m0.0002\u001b[0m  0.0062\n",
            "     34        \u001b[36m0.0001\u001b[0m  0.0056\n",
            "     35        \u001b[36m0.0001\u001b[0m  0.0050\n",
            "     36        \u001b[36m0.0001\u001b[0m  0.0073\n",
            "     37        \u001b[36m0.0001\u001b[0m  0.0060\n",
            "     38        \u001b[36m0.0001\u001b[0m  0.0035\n",
            "     39        \u001b[36m0.0001\u001b[0m  0.0033\n",
            "     40        \u001b[36m0.0001\u001b[0m  0.0040\n",
            "Query no. 2\n",
            "Re-initializing module.\n",
            "Re-initializing criterion.\n",
            "Re-initializing optimizer.\n",
            "  epoch    train_loss     dur\n",
            "-------  ------------  ------\n",
            "      1        \u001b[36m3.5593\u001b[0m  0.0029\n",
            "      2        \u001b[36m2.7388\u001b[0m  0.0024\n",
            "      3        \u001b[36m1.9842\u001b[0m  0.0058\n",
            "      4        \u001b[36m1.3366\u001b[0m  0.0057\n",
            "      5        \u001b[36m0.8456\u001b[0m  0.0022\n",
            "      6        \u001b[36m0.5325\u001b[0m  0.0057\n",
            "      7        \u001b[36m0.3533\u001b[0m  0.0069\n",
            "      8        \u001b[36m0.2367\u001b[0m  0.0063\n",
            "      9        \u001b[36m0.1519\u001b[0m  0.0064\n",
            "     10        \u001b[36m0.0938\u001b[0m  0.0054\n",
            "     11        \u001b[36m0.0555\u001b[0m  0.0049\n",
            "     12        \u001b[36m0.0314\u001b[0m  0.0062\n",
            "     13        \u001b[36m0.0176\u001b[0m  0.0055\n",
            "     14        \u001b[36m0.0102\u001b[0m  0.0057\n",
            "     15        \u001b[36m0.0064\u001b[0m  0.0054\n",
            "     16        \u001b[36m0.0042\u001b[0m  0.0053\n",
            "     17        \u001b[36m0.0028\u001b[0m  0.0055\n",
            "     18        \u001b[36m0.0019\u001b[0m  0.0072\n",
            "     19        \u001b[36m0.0013\u001b[0m  0.0065\n",
            "     20        \u001b[36m0.0009\u001b[0m  0.0061\n",
            "     21        \u001b[36m0.0006\u001b[0m  0.0058\n",
            "     22        \u001b[36m0.0004\u001b[0m  0.0070\n",
            "     23        \u001b[36m0.0003\u001b[0m  0.0067\n",
            "     24        \u001b[36m0.0003\u001b[0m  0.0069\n",
            "     25        \u001b[36m0.0002\u001b[0m  0.0055\n",
            "     26        \u001b[36m0.0002\u001b[0m  0.0020\n",
            "     27        \u001b[36m0.0002\u001b[0m  0.0074\n",
            "     28        \u001b[36m0.0001\u001b[0m  0.0071\n",
            "     29        \u001b[36m0.0001\u001b[0m  0.0070\n",
            "     30        \u001b[36m0.0001\u001b[0m  0.0055\n",
            "     31        \u001b[36m0.0001\u001b[0m  0.0057\n",
            "     32        \u001b[36m0.0001\u001b[0m  0.0035\n",
            "     33        \u001b[36m0.0001\u001b[0m  0.0067\n",
            "     34        \u001b[36m0.0001\u001b[0m  0.0066\n",
            "     35        \u001b[36m0.0001\u001b[0m  0.0064\n",
            "     36        \u001b[36m0.0001\u001b[0m  0.0059\n",
            "     37        \u001b[36m0.0001\u001b[0m  0.0073\n",
            "     38        \u001b[36m0.0001\u001b[0m  0.0063\n",
            "     39        \u001b[36m0.0000\u001b[0m  0.0026\n",
            "     40        \u001b[36m0.0000\u001b[0m  0.0045\n",
            "Query no. 3\n",
            "Re-initializing module.\n",
            "Re-initializing criterion.\n",
            "Re-initializing optimizer.\n",
            "  epoch    train_loss     dur\n",
            "-------  ------------  ------\n",
            "      1        \u001b[36m3.8829\u001b[0m  0.0077\n",
            "      2        \u001b[36m2.6421\u001b[0m  0.0038\n",
            "      3        \u001b[36m1.8139\u001b[0m  0.0043\n",
            "      4        \u001b[36m1.2777\u001b[0m  0.0040\n",
            "      5        \u001b[36m0.8342\u001b[0m  0.0035\n",
            "      6        \u001b[36m0.5047\u001b[0m  0.0047\n",
            "      7        \u001b[36m0.3030\u001b[0m  0.0028\n",
            "      8        \u001b[36m0.1863\u001b[0m  0.0060\n",
            "      9        \u001b[36m0.1112\u001b[0m  0.0037\n",
            "     10        \u001b[36m0.0626\u001b[0m  0.0034\n",
            "     11        \u001b[36m0.0341\u001b[0m  0.0035\n",
            "     12        \u001b[36m0.0189\u001b[0m  0.0056\n",
            "     13        \u001b[36m0.0110\u001b[0m  0.0083\n",
            "     14        \u001b[36m0.0070\u001b[0m  0.0053\n",
            "     15        \u001b[36m0.0047\u001b[0m  0.0021\n",
            "     16        \u001b[36m0.0033\u001b[0m  0.0043\n",
            "     17        \u001b[36m0.0023\u001b[0m  0.0035\n",
            "     18        \u001b[36m0.0017\u001b[0m  0.0050\n",
            "     19        \u001b[36m0.0012\u001b[0m  0.0064\n",
            "     20        \u001b[36m0.0009\u001b[0m  0.0055\n",
            "     21        \u001b[36m0.0007\u001b[0m  0.0033\n",
            "     22        \u001b[36m0.0006\u001b[0m  0.0075\n",
            "     23        \u001b[36m0.0005\u001b[0m  0.0094\n",
            "     24        \u001b[36m0.0004\u001b[0m  0.0053\n",
            "     25        \u001b[36m0.0003\u001b[0m  0.0022\n",
            "     26        \u001b[36m0.0003\u001b[0m  0.0051\n",
            "     27        \u001b[36m0.0002\u001b[0m  0.0051\n",
            "     28        \u001b[36m0.0002\u001b[0m  0.0057\n",
            "     29        \u001b[36m0.0002\u001b[0m  0.0052\n",
            "     30        \u001b[36m0.0001\u001b[0m  0.0043\n",
            "     31        \u001b[36m0.0001\u001b[0m  0.0032\n",
            "     32        \u001b[36m0.0001\u001b[0m  0.0048\n",
            "     33        \u001b[36m0.0001\u001b[0m  0.0042\n",
            "     34        \u001b[36m0.0001\u001b[0m  0.0065\n",
            "     35        \u001b[36m0.0001\u001b[0m  0.0046\n",
            "     36        \u001b[36m0.0001\u001b[0m  0.0048\n",
            "     37        \u001b[36m0.0001\u001b[0m  0.0051\n",
            "     38        \u001b[36m0.0001\u001b[0m  0.0067\n",
            "     39        \u001b[36m0.0001\u001b[0m  0.0071\n",
            "     40        \u001b[36m0.0001\u001b[0m  0.0056\n",
            "Query no. 4\n",
            "Re-initializing module.\n",
            "Re-initializing criterion.\n",
            "Re-initializing optimizer.\n",
            "  epoch    train_loss     dur\n",
            "-------  ------------  ------\n",
            "      1        \u001b[36m3.6675\u001b[0m  0.0021\n",
            "      2        \u001b[36m2.4545\u001b[0m  0.0055\n",
            "      3        \u001b[36m1.5766\u001b[0m  0.0062\n",
            "      4        \u001b[36m1.0348\u001b[0m  0.0052\n",
            "      5        \u001b[36m0.6599\u001b[0m  0.0023\n",
            "      6        \u001b[36m0.4070\u001b[0m  0.0050\n",
            "      7        \u001b[36m0.2476\u001b[0m  0.0073\n",
            "      8        \u001b[36m0.1486\u001b[0m  0.0052\n",
            "      9        \u001b[36m0.0867\u001b[0m  0.0055\n",
            "     10        \u001b[36m0.0497\u001b[0m  0.0051\n",
            "     11        \u001b[36m0.0278\u001b[0m  0.0039\n",
            "     12        \u001b[36m0.0152\u001b[0m  0.0091\n",
            "     13        \u001b[36m0.0089\u001b[0m  0.0055\n",
            "     14        \u001b[36m0.0057\u001b[0m  0.0030\n",
            "     15        \u001b[36m0.0038\u001b[0m  0.0037\n",
            "     16        \u001b[36m0.0025\u001b[0m  0.0044\n",
            "     17        \u001b[36m0.0017\u001b[0m  0.0038\n",
            "     18        \u001b[36m0.0013\u001b[0m  0.0040\n",
            "     19        \u001b[36m0.0011\u001b[0m  0.0042\n",
            "     20        \u001b[36m0.0008\u001b[0m  0.0033\n",
            "     21        \u001b[36m0.0007\u001b[0m  0.0033\n",
            "     22        \u001b[36m0.0005\u001b[0m  0.0033\n",
            "     23        \u001b[36m0.0004\u001b[0m  0.0033\n",
            "     24        \u001b[36m0.0003\u001b[0m  0.0039\n",
            "     25        \u001b[36m0.0002\u001b[0m  0.0031\n",
            "     26        \u001b[36m0.0002\u001b[0m  0.0044\n",
            "     27        \u001b[36m0.0002\u001b[0m  0.0069\n",
            "     28        \u001b[36m0.0002\u001b[0m  0.0035\n",
            "     29        \u001b[36m0.0001\u001b[0m  0.0065\n",
            "     30        \u001b[36m0.0001\u001b[0m  0.0049\n",
            "     31        \u001b[36m0.0001\u001b[0m  0.0053\n",
            "     32        \u001b[36m0.0001\u001b[0m  0.0056\n",
            "     33        \u001b[36m0.0001\u001b[0m  0.0041\n",
            "     34        \u001b[36m0.0001\u001b[0m  0.0072\n",
            "     35        \u001b[36m0.0001\u001b[0m  0.0025\n",
            "     36        \u001b[36m0.0001\u001b[0m  0.0046\n",
            "     37        \u001b[36m0.0001\u001b[0m  0.0115\n",
            "     38        \u001b[36m0.0001\u001b[0m  0.0066\n",
            "     39        \u001b[36m0.0000\u001b[0m  0.0051\n",
            "     40        \u001b[36m0.0000\u001b[0m  0.0046\n",
            "Query no. 5\n",
            "Re-initializing module.\n",
            "Re-initializing criterion.\n",
            "Re-initializing optimizer.\n",
            "  epoch    train_loss     dur\n",
            "-------  ------------  ------\n",
            "      1        \u001b[36m3.6736\u001b[0m  0.0037\n",
            "      2        \u001b[36m2.4273\u001b[0m  0.0048\n",
            "      3        \u001b[36m1.4647\u001b[0m  0.0049\n",
            "      4        \u001b[36m0.9056\u001b[0m  0.0055\n",
            "      5        \u001b[36m0.5634\u001b[0m  0.0057\n",
            "      6        \u001b[36m0.3545\u001b[0m  0.0063\n",
            "      7        \u001b[36m0.2339\u001b[0m  0.0042\n",
            "      8        \u001b[36m0.1602\u001b[0m  0.0077\n",
            "      9        \u001b[36m0.1094\u001b[0m  0.0058\n",
            "     10        \u001b[36m0.0718\u001b[0m  0.0041\n",
            "     11        \u001b[36m0.0443\u001b[0m  0.0046\n",
            "     12        \u001b[36m0.0259\u001b[0m  0.0066\n",
            "     13        \u001b[36m0.0147\u001b[0m  0.0049\n",
            "     14        \u001b[36m0.0084\u001b[0m  0.0063\n",
            "     15        \u001b[36m0.0051\u001b[0m  0.0037\n",
            "     16        \u001b[36m0.0032\u001b[0m  0.0061\n",
            "     17        \u001b[36m0.0021\u001b[0m  0.0035\n",
            "     18        \u001b[36m0.0015\u001b[0m  0.0094\n",
            "     19        \u001b[36m0.0011\u001b[0m  0.0035\n",
            "     20        \u001b[36m0.0008\u001b[0m  0.0054\n",
            "     21        \u001b[36m0.0006\u001b[0m  0.0058\n",
            "     22        \u001b[36m0.0005\u001b[0m  0.0043\n",
            "     23        \u001b[36m0.0004\u001b[0m  0.0056\n",
            "     24        \u001b[36m0.0003\u001b[0m  0.0064\n",
            "     25        \u001b[36m0.0003\u001b[0m  0.0052\n",
            "     26        \u001b[36m0.0002\u001b[0m  0.0039\n",
            "     27        \u001b[36m0.0002\u001b[0m  0.0050\n",
            "     28        \u001b[36m0.0002\u001b[0m  0.0043\n",
            "     29        \u001b[36m0.0001\u001b[0m  0.0054\n",
            "     30        \u001b[36m0.0001\u001b[0m  0.0079\n",
            "     31        \u001b[36m0.0001\u001b[0m  0.0032\n",
            "     32        \u001b[36m0.0001\u001b[0m  0.0043\n",
            "     33        \u001b[36m0.0001\u001b[0m  0.0087\n",
            "     34        \u001b[36m0.0001\u001b[0m  0.0040\n",
            "     35        \u001b[36m0.0001\u001b[0m  0.0025\n",
            "     36        \u001b[36m0.0001\u001b[0m  0.0045\n",
            "     37        \u001b[36m0.0001\u001b[0m  0.0033\n",
            "     38        \u001b[36m0.0001\u001b[0m  0.0087\n",
            "     39        \u001b[36m0.0000\u001b[0m  0.0052\n",
            "     40        \u001b[36m0.0000\u001b[0m  0.0042\n",
            "Query no. 6\n",
            "Re-initializing module.\n",
            "Re-initializing criterion.\n",
            "Re-initializing optimizer.\n",
            "  epoch    train_loss     dur\n",
            "-------  ------------  ------\n",
            "      1        \u001b[36m3.8005\u001b[0m  0.0039\n",
            "      2        \u001b[36m2.5826\u001b[0m  0.0063\n",
            "      3        \u001b[36m1.6418\u001b[0m  0.0046\n",
            "      4        \u001b[36m1.0466\u001b[0m  0.0048\n",
            "      5        \u001b[36m0.6803\u001b[0m  0.0048\n",
            "      6        \u001b[36m0.4423\u001b[0m  0.0046\n",
            "      7        \u001b[36m0.2881\u001b[0m  0.0108\n",
            "      8        \u001b[36m0.1896\u001b[0m  0.0048\n",
            "      9        \u001b[36m0.1256\u001b[0m  0.0052\n",
            "     10        \u001b[36m0.0820\u001b[0m  0.0099\n",
            "     11        \u001b[36m0.0513\u001b[0m  0.0047\n",
            "     12        \u001b[36m0.0304\u001b[0m  0.0046\n",
            "     13        \u001b[36m0.0174\u001b[0m  0.0048\n",
            "     14        \u001b[36m0.0099\u001b[0m  0.0036\n",
            "     15        \u001b[36m0.0059\u001b[0m  0.0034\n",
            "     16        \u001b[36m0.0037\u001b[0m  0.0040\n",
            "     17        \u001b[36m0.0024\u001b[0m  0.0036\n",
            "     18        \u001b[36m0.0016\u001b[0m  0.0036\n",
            "     19        \u001b[36m0.0011\u001b[0m  0.0033\n",
            "     20        \u001b[36m0.0008\u001b[0m  0.0049\n",
            "     21        \u001b[36m0.0006\u001b[0m  0.0047\n",
            "     22        \u001b[36m0.0004\u001b[0m  0.0064\n",
            "     23        \u001b[36m0.0003\u001b[0m  0.0045\n",
            "     24        \u001b[36m0.0003\u001b[0m  0.0042\n",
            "     25        \u001b[36m0.0002\u001b[0m  0.0031\n",
            "     26        \u001b[36m0.0002\u001b[0m  0.0035\n",
            "     27        \u001b[36m0.0001\u001b[0m  0.0056\n",
            "     28        \u001b[36m0.0001\u001b[0m  0.0055\n",
            "     29        \u001b[36m0.0001\u001b[0m  0.0057\n",
            "     30        \u001b[36m0.0001\u001b[0m  0.0055\n",
            "     31        \u001b[36m0.0001\u001b[0m  0.0037\n",
            "     32        \u001b[36m0.0001\u001b[0m  0.0067\n",
            "     33        \u001b[36m0.0001\u001b[0m  0.0070\n",
            "     34        \u001b[36m0.0000\u001b[0m  0.0073\n",
            "     35        \u001b[36m0.0000\u001b[0m  0.0053\n",
            "     36        \u001b[36m0.0000\u001b[0m  0.0055\n",
            "     37        \u001b[36m0.0000\u001b[0m  0.0043\n",
            "     38        \u001b[36m0.0000\u001b[0m  0.0063\n",
            "     39        \u001b[36m0.0000\u001b[0m  0.0044\n",
            "     40        \u001b[36m0.0000\u001b[0m  0.0066\n",
            "Query no. 7\n",
            "Re-initializing module.\n",
            "Re-initializing criterion.\n",
            "Re-initializing optimizer.\n",
            "  epoch    train_loss     dur\n",
            "-------  ------------  ------\n",
            "      1        \u001b[36m3.7370\u001b[0m  0.0064\n",
            "      2        \u001b[36m2.6748\u001b[0m  0.0027\n",
            "      3        \u001b[36m1.8379\u001b[0m  0.0034\n",
            "      4        \u001b[36m1.2464\u001b[0m  0.0052\n",
            "      5        \u001b[36m0.8353\u001b[0m  0.0049\n",
            "      6        \u001b[36m0.5515\u001b[0m  0.0050\n",
            "      7        \u001b[36m0.3598\u001b[0m  0.0051\n",
            "      8        \u001b[36m0.2320\u001b[0m  0.0050\n",
            "      9        \u001b[36m0.1470\u001b[0m  0.0051\n",
            "     10        \u001b[36m0.0912\u001b[0m  0.0044\n",
            "     11        \u001b[36m0.0557\u001b[0m  0.0052\n",
            "     12        \u001b[36m0.0330\u001b[0m  0.0041\n",
            "     13        \u001b[36m0.0190\u001b[0m  0.0083\n",
            "     14        \u001b[36m0.0110\u001b[0m  0.0060\n",
            "     15        \u001b[36m0.0068\u001b[0m  0.0061\n",
            "     16        \u001b[36m0.0045\u001b[0m  0.0048\n",
            "     17        \u001b[36m0.0030\u001b[0m  0.0045\n",
            "     18        \u001b[36m0.0020\u001b[0m  0.0063\n",
            "     19        \u001b[36m0.0014\u001b[0m  0.0057\n",
            "     20        \u001b[36m0.0010\u001b[0m  0.0059\n",
            "     21        \u001b[36m0.0007\u001b[0m  0.0042\n",
            "     22        \u001b[36m0.0006\u001b[0m  0.0058\n",
            "     23        \u001b[36m0.0005\u001b[0m  0.0069\n",
            "     24        \u001b[36m0.0004\u001b[0m  0.0053\n",
            "     25        \u001b[36m0.0003\u001b[0m  0.0057\n",
            "     26        \u001b[36m0.0003\u001b[0m  0.0056\n",
            "     27        \u001b[36m0.0002\u001b[0m  0.0048\n",
            "     28        \u001b[36m0.0002\u001b[0m  0.0069\n",
            "     29        \u001b[36m0.0002\u001b[0m  0.0055\n",
            "     30        \u001b[36m0.0001\u001b[0m  0.0107\n",
            "     31        \u001b[36m0.0001\u001b[0m  0.0043\n",
            "     32        \u001b[36m0.0001\u001b[0m  0.0040\n",
            "     33        \u001b[36m0.0001\u001b[0m  0.0061\n",
            "     34        \u001b[36m0.0001\u001b[0m  0.0047\n",
            "     35        \u001b[36m0.0001\u001b[0m  0.0052\n",
            "     36        \u001b[36m0.0001\u001b[0m  0.0086\n",
            "     37        \u001b[36m0.0001\u001b[0m  0.0062\n",
            "     38        \u001b[36m0.0001\u001b[0m  0.0056\n",
            "     39        \u001b[36m0.0001\u001b[0m  0.0076\n",
            "     40        \u001b[36m0.0001\u001b[0m  0.0056\n",
            "Query no. 8\n",
            "Re-initializing module.\n",
            "Re-initializing criterion.\n",
            "Re-initializing optimizer.\n",
            "  epoch    train_loss     dur\n",
            "-------  ------------  ------\n",
            "      1        \u001b[36m3.7574\u001b[0m  0.0061\n",
            "      2        \u001b[36m2.5574\u001b[0m  0.0039\n",
            "      3        \u001b[36m1.7445\u001b[0m  0.0040\n",
            "      4        \u001b[36m1.2370\u001b[0m  0.0068\n",
            "      5        \u001b[36m0.8735\u001b[0m  0.0070\n",
            "      6        \u001b[36m0.6060\u001b[0m  0.0034\n",
            "      7        \u001b[36m0.4102\u001b[0m  0.0049\n",
            "      8        \u001b[36m0.2671\u001b[0m  0.0053\n",
            "      9        \u001b[36m0.1650\u001b[0m  0.0065\n",
            "     10        \u001b[36m0.0970\u001b[0m  0.0060\n",
            "     11        \u001b[36m0.0563\u001b[0m  0.0066\n",
            "     12        \u001b[36m0.0336\u001b[0m  0.0056\n",
            "     13        \u001b[36m0.0200\u001b[0m  0.0058\n",
            "     14        \u001b[36m0.0117\u001b[0m  0.0045\n",
            "     15        \u001b[36m0.0073\u001b[0m  0.0036\n",
            "     16        \u001b[36m0.0053\u001b[0m  0.0044\n",
            "     17        \u001b[36m0.0043\u001b[0m  0.0036\n",
            "     18        \u001b[36m0.0033\u001b[0m  0.0085\n",
            "     19        \u001b[36m0.0025\u001b[0m  0.0046\n",
            "     20        \u001b[36m0.0018\u001b[0m  0.0068\n",
            "     21        \u001b[36m0.0014\u001b[0m  0.0055\n",
            "     22        \u001b[36m0.0012\u001b[0m  0.0051\n",
            "     23        \u001b[36m0.0010\u001b[0m  0.0045\n",
            "     24        \u001b[36m0.0009\u001b[0m  0.0057\n",
            "     25        \u001b[36m0.0008\u001b[0m  0.0043\n",
            "     26        \u001b[36m0.0006\u001b[0m  0.0053\n",
            "     27        \u001b[36m0.0005\u001b[0m  0.0057\n",
            "     28        \u001b[36m0.0004\u001b[0m  0.0051\n",
            "     29        \u001b[36m0.0003\u001b[0m  0.0048\n",
            "     30        \u001b[36m0.0003\u001b[0m  0.0038\n",
            "     31        \u001b[36m0.0002\u001b[0m  0.0044\n",
            "     32        \u001b[36m0.0002\u001b[0m  0.0038\n",
            "     33        \u001b[36m0.0002\u001b[0m  0.0039\n",
            "     34        \u001b[36m0.0001\u001b[0m  0.0045\n",
            "     35        \u001b[36m0.0001\u001b[0m  0.0039\n",
            "     36        \u001b[36m0.0001\u001b[0m  0.0043\n",
            "     37        \u001b[36m0.0001\u001b[0m  0.0039\n",
            "     38        \u001b[36m0.0001\u001b[0m  0.0040\n",
            "     39        \u001b[36m0.0001\u001b[0m  0.0041\n",
            "     40        \u001b[36m0.0001\u001b[0m  0.0042\n",
            "Query no. 9\n",
            "Re-initializing module.\n",
            "Re-initializing criterion.\n",
            "Re-initializing optimizer.\n",
            "  epoch    train_loss     dur\n",
            "-------  ------------  ------\n",
            "      1        \u001b[36m3.8765\u001b[0m  0.0085\n",
            "      2        \u001b[36m2.6860\u001b[0m  0.0058\n",
            "      3        \u001b[36m1.8355\u001b[0m  0.0046\n",
            "      4        \u001b[36m1.3033\u001b[0m  0.0044\n",
            "      5        \u001b[36m0.9039\u001b[0m  0.0051\n",
            "      6        \u001b[36m0.6212\u001b[0m  0.0083\n",
            "      7        \u001b[36m0.4356\u001b[0m  0.0055\n",
            "      8        \u001b[36m0.3098\u001b[0m  0.0064\n",
            "      9        \u001b[36m0.2171\u001b[0m  0.0048\n",
            "     10        \u001b[36m0.1459\u001b[0m  0.0064\n",
            "     11        \u001b[36m0.0928\u001b[0m  0.0065\n",
            "     12        \u001b[36m0.0563\u001b[0m  0.0049\n",
            "     13        \u001b[36m0.0330\u001b[0m  0.0055\n",
            "     14        \u001b[36m0.0189\u001b[0m  0.0047\n",
            "     15        \u001b[36m0.0107\u001b[0m  0.0036\n",
            "     16        \u001b[36m0.0061\u001b[0m  0.0045\n",
            "     17        \u001b[36m0.0037\u001b[0m  0.0036\n",
            "     18        \u001b[36m0.0024\u001b[0m  0.0036\n",
            "     19        \u001b[36m0.0017\u001b[0m  0.0041\n",
            "     20        \u001b[36m0.0012\u001b[0m  0.0050\n",
            "     21        \u001b[36m0.0010\u001b[0m  0.0040\n",
            "     22        \u001b[36m0.0007\u001b[0m  0.0036\n",
            "     23        \u001b[36m0.0006\u001b[0m  0.0034\n",
            "     24        \u001b[36m0.0005\u001b[0m  0.0068\n",
            "     25        \u001b[36m0.0004\u001b[0m  0.0039\n",
            "     26        \u001b[36m0.0003\u001b[0m  0.0040\n",
            "     27        \u001b[36m0.0003\u001b[0m  0.0041\n",
            "     28        \u001b[36m0.0002\u001b[0m  0.0039\n",
            "     29        \u001b[36m0.0002\u001b[0m  0.0040\n",
            "     30        \u001b[36m0.0002\u001b[0m  0.0049\n",
            "     31        \u001b[36m0.0002\u001b[0m  0.0053\n",
            "     32        \u001b[36m0.0001\u001b[0m  0.0045\n",
            "     33        \u001b[36m0.0001\u001b[0m  0.0059\n",
            "     34        \u001b[36m0.0001\u001b[0m  0.0041\n",
            "     35        \u001b[36m0.0001\u001b[0m  0.0051\n",
            "     36        \u001b[36m0.0001\u001b[0m  0.0079\n",
            "     37        \u001b[36m0.0001\u001b[0m  0.0053\n",
            "     38        \u001b[36m0.0001\u001b[0m  0.0077\n",
            "     39        \u001b[36m0.0001\u001b[0m  0.0053\n",
            "     40        \u001b[36m0.0001\u001b[0m  0.0052\n",
            "Query no. 10\n",
            "Re-initializing module.\n",
            "Re-initializing criterion.\n",
            "Re-initializing optimizer.\n",
            "  epoch    train_loss     dur\n",
            "-------  ------------  ------\n",
            "      1        \u001b[36m3.7571\u001b[0m  0.0068\n",
            "      2        \u001b[36m2.6425\u001b[0m  0.0077\n",
            "      3        \u001b[36m1.8274\u001b[0m  0.0073\n",
            "      4        \u001b[36m1.2755\u001b[0m  0.0058\n",
            "      5        \u001b[36m0.8831\u001b[0m  0.0039\n",
            "      6        \u001b[36m0.6117\u001b[0m  0.0052\n",
            "      7        \u001b[36m0.4270\u001b[0m  0.0072\n",
            "      8        \u001b[36m0.2952\u001b[0m  0.0062\n",
            "      9        \u001b[36m0.1972\u001b[0m  0.0065\n",
            "     10        \u001b[36m0.1267\u001b[0m  0.0055\n",
            "     11        \u001b[36m0.0801\u001b[0m  0.0056\n",
            "     12        \u001b[36m0.0508\u001b[0m  0.0073\n",
            "     13        \u001b[36m0.0321\u001b[0m  0.0030\n",
            "     14        \u001b[36m0.0197\u001b[0m  0.0072\n",
            "     15        \u001b[36m0.0118\u001b[0m  0.0053\n",
            "     16        \u001b[36m0.0073\u001b[0m  0.0055\n",
            "     17        \u001b[36m0.0048\u001b[0m  0.0112\n",
            "     18        \u001b[36m0.0034\u001b[0m  0.0059\n",
            "     19        \u001b[36m0.0025\u001b[0m  0.0046\n",
            "     20        \u001b[36m0.0020\u001b[0m  0.0055\n",
            "     21        \u001b[36m0.0017\u001b[0m  0.0036\n",
            "     22        \u001b[36m0.0014\u001b[0m  0.0040\n",
            "     23        \u001b[36m0.0012\u001b[0m  0.0050\n",
            "     24        \u001b[36m0.0010\u001b[0m  0.0029\n",
            "     25        \u001b[36m0.0009\u001b[0m  0.0085\n",
            "     26        \u001b[36m0.0008\u001b[0m  0.0071\n",
            "     27        \u001b[36m0.0007\u001b[0m  0.0075\n",
            "     28        \u001b[36m0.0006\u001b[0m  0.0051\n",
            "     29        \u001b[36m0.0005\u001b[0m  0.0038\n",
            "     30        \u001b[36m0.0004\u001b[0m  0.0042\n",
            "     31        \u001b[36m0.0004\u001b[0m  0.0051\n",
            "     32        \u001b[36m0.0003\u001b[0m  0.0069\n",
            "     33        \u001b[36m0.0003\u001b[0m  0.0068\n",
            "     34        \u001b[36m0.0003\u001b[0m  0.0064\n",
            "     35        \u001b[36m0.0002\u001b[0m  0.0059\n",
            "     36        \u001b[36m0.0002\u001b[0m  0.0061\n",
            "     37        \u001b[36m0.0002\u001b[0m  0.0104\n",
            "     38        \u001b[36m0.0002\u001b[0m  0.0062\n",
            "     39        \u001b[36m0.0002\u001b[0m  0.0074\n",
            "     40        \u001b[36m0.0002\u001b[0m  0.0065\n"
          ]
        }
      ]
    },
    {
      "cell_type": "code",
      "metadata": {
        "colab": {
          "base_uri": "https://localhost:8080/",
          "height": 714
        },
        "id": "yEP6rPs2m0tY",
        "outputId": "894e2fc8-969d-4ab3-bc72-c0c123a24a4e"
      },
      "source": [
        "import matplotlib as mpl\n",
        "import matplotlib.pyplot as plt\n",
        "\n",
        "fig, ax = plt.subplots(figsize = (8.5, 6), dpi = 130)\n",
        "\n",
        "ax.plot(accuracy_historial)\n",
        "ax.scatter(range(len(accuracy_historial)), accuracy_historial, s = 13)\n",
        "\n",
        "ax.xaxis.set_major_locator(mpl.ticker.MaxNLocator(nbins = 5, integer = True))\n",
        "ax.yaxis.set_major_locator(mpl.ticker.MaxNLocator(nbins = 10))\n",
        "ax.yaxis.set_major_formatter(mpl.ticker.PercentFormatter(xmax = 1))\n",
        "\n",
        "ax.set_ylim(bottom = 0, top = 1)\n",
        "ax.grid(True)\n",
        "\n",
        "ax.set_title('Incremental classification accuracy')\n",
        "ax.set_xlabel('Query iteration')\n",
        "ax.set_ylabel('Classification Accuracy')\n",
        "\n",
        "plt.show()"
      ],
      "execution_count": null,
      "outputs": [
        {
          "output_type": "display_data",
          "data": {
            "image/png": "[encoded data removed]",
            "text/plain": [
              "<Figure size 1105x780 with 1 Axes>"
            ]
          },
          "metadata": {
            "needs_background": "light"
          }
        }
      ]
    },
    {
      "cell_type": "code",
      "metadata": {
        "colab": {
          "base_uri": "https://localhost:8080/"
        },
        "id": "LwvdDRo3hze6",
        "outputId": "c7b062f0-2204-4498-8e15-cbed6d22dd99"
      },
      "source": [
        "import statistics \n",
        "import sklearn\n",
        "\n",
        "train_acc = statistics.mean(accuracy_historial)\n",
        "test_acc = statistics.mean(test_accuracy)\n",
        "auc = sklearn.metrics.roc_auc_score(np.reshape(y_test, (len(y_test), 1)), prediction, multi_class = 'ovr') \n",
        "\n",
        "print(\"Train accuracy mean: %4.2f \" % (train_acc * 100))\n",
        "print(\"Test accuracy mean:  %4.2f\" % (test_acc * 100))\n",
        "print(\"Area unde the ROC curve: %4.2f\" % auc)"
      ],
      "execution_count": null,
      "outputs": [
        {
          "output_type": "stream",
          "name": "stdout",
          "text": [
            "Train accuracy mean: 58.13 \n",
            "Test accuracy mean:  58.31\n",
            "Area unde the ROC curve: 0.97\n"
          ]
        }
      ]
    },
    {
      "cell_type": "code",
      "metadata": {
        "colab": {
          "base_uri": "https://localhost:8080/",
          "height": 131
        },
        "id": "ynJ20WBcmM9d",
        "outputId": "fb97abb9-e927-4cb8-a1b5-258b476c6738"
      },
      "source": [
        "from tabulate import tabulate \n",
        "import math \n",
        "\n",
        "classes = []; \n",
        "\n",
        "for i in range(len(prediction)):\n",
        "  classes.append(np.argmax(prediction[i]))\n",
        "\n",
        "confusion_matrix = sklearn.metrics.confusion_matrix(y_test, classes)\n",
        "\n",
        "FP = confusion_matrix.sum(axis = 0) - np.diagonal(confusion_matrix)\n",
        "FN = confusion_matrix.sum(axis = 1) - np.diagonal(confusion_matrix)\n",
        "TP = np.diagonal(confusion_matrix)\n",
        "TN = confusion_matrix.sum() - (FP + FN + TP)\n",
        "\n",
        "# Sensitivity / recall\n",
        "sensitivity = TP/(TP + FN)\n",
        "# Specificity \n",
        "specificity = TN/(TN + FP) \n",
        "# Precision / positive predictive value\n",
        "ppv = TP/(TP + FP)\n",
        "# Negative predictive value\n",
        "npv = TN/(TN + FN)\n",
        "\n",
        "# Overall accuracy\n",
        "acc = (TP + TN) / (TP + FP + FN + TN)\n",
        "\n",
        "metrics = []; \n",
        "header = ['Disease', 'Sensitivity', 'Specificity', 'Positive predictive value', 'Negative predictive value', 'Accuracy']\n",
        "diseases = ['Fungal infection',\t'Allergy',\t'GERD',\t'Chronic cholestasis',\t'Drug Reaction',\t'Peptic ulcer disease',\t'AIDS',\t'Diabetes',\t'Gastroenteritis',\t'Bronchial Asthma',\t'Hypertension',\t'Migraine',\t'Cervical spondylosis',\t'Paralysis (brain hemorrhage)',\t'Jaundice',\t'Malaria',\t'Chicken pox',\t'Dengue',\t'Typhoid',\t'Hepatitis A',\t'Hepatitis B',\t'Hepatitis C',\t'Hepatitis D',\t'Hepatitis E',\t'Alcoholic hepatitis',\t'Tuberculosis',\t'Common Cold',\t'Pneumonia',\t'Dimorphic hemmorhoids (piles)', 'Heart attack',\t'Varicose veins',\t'Hypothyroidism',\t'Hyperthyroidism',\t'Hypoglycemia',\t'Osteoarthristis',\t'Arthritis',\t'(vertigo) Paroymsal Positional Vertigo',\t'Acne',\t'Urinary tract infection',\t'Psoriasis',\t'Impetigo']\n",
        "\n",
        "for i in range(1, 41):\n",
        "  metrics.append([diseases[i], sensitivity[i], specificity[i], ppv[i], npv[i], acc[i]])\n",
        "  \n",
        "for i in range(0, 40):\n",
        "  for j in range(1, 5):\n",
        "    if math.isnan(metrics[i][j]):\n",
        "      metrics[i][j] = 0\n",
        "  if math.isnan(ppv[i]):\n",
        "    ppv[i] = 0\n",
        "      \n",
        "values = sklearn.metrics.precision_recall_fscore_support(y_test, classes, average = 'micro')\n",
        "overall_acc = (sum(TP) + sum(TN)) / (sum(TP) + sum(FP) + sum(FN) + sum(TN))\n",
        "overall_npv = sum(TN) / (sum(TN) + sum(FN))\n",
        "overall_speci = sum(TN) / (sum(TN) + sum(FP)) \n",
        "\n",
        "metrics.append(['Micro-averaging measurements:', values[0], overall_speci, values[1], overall_npv, overall_acc])\n",
        "\n",
        "\n",
        "print(tabulate(metrics, header, tablefmt = \"github\", numalign = \"center\"))"
      ],
      "execution_count": null,
      "outputs": [
        {
          "output_type": "error",
          "ename": "SyntaxError",
          "evalue": "ignored",
          "traceback": [
            "\u001b[0;36m  File \u001b[0;32m\"<ipython-input-73-7570aabcd8dd>\"\u001b[0;36m, line \u001b[0;32m47\u001b[0m\n\u001b[0;31m    metrics.append(['Micro-averaging measurements:', values[0], overall_speci), values[1], overall_npv, overall_acc])\u001b[0m\n\u001b[0m                                                                             ^\u001b[0m\n\u001b[0;31mSyntaxError\u001b[0m\u001b[0;31m:\u001b[0m invalid syntax\n"
          ]
        }
      ]
    },
    {
      "cell_type": "code",
      "metadata": {
        "id": "35kT3LkBwleg",
        "colab": {
          "base_uri": "https://localhost:8080/",
          "height": 737
        },
        "outputId": "4d0f39f2-e588-4783-d0e4-8846d16ffc42"
      },
      "source": [
        "import matplotlib as mpl\n",
        "import matplotlib.pyplot as plt\n",
        "\n",
        "fig, ax = plt.subplots(figsize = (8.5, 6), dpi = 130)\n",
        "\n",
        "ax.plot(range(10, 101, 10), test_accuracy[1:11], color = 'green')\n",
        "\n",
        "ax.xaxis.set_major_locator(mpl.ticker.MaxNLocator(nbins = 5, integer = True))\n",
        "ax.yaxis.set_major_locator(mpl.ticker.MaxNLocator(nbins = 10))\n",
        "ax.yaxis.set_major_formatter(mpl.ticker.PercentFormatter(xmax = 1))\n",
        "\n",
        "ax.set_ylim(bottom = 0, top = 1)\n",
        "\n",
        "ax.set_title('Active Learning classification \\n Initial Sample: 10, Batch Size: 10')\n",
        "ax.set_xlabel('Labeled Examples')\n",
        "ax.set_ylabel('Test Accuracy')\n",
        "\n",
        "plt.show()"
      ],
      "execution_count": null,
      "outputs": [
        {
          "output_type": "display_data",
          "data": {
            "image/png": "[encoded data removed]",
            "text/plain": [
              "<Figure size 1105x780 with 1 Axes>"
            ]
          },
          "metadata": {
            "needs_background": "light"
          }
        }
      ]
    },
    {
      "cell_type": "code",
      "metadata": {
        "id": "956bUJINvcjn"
      },
      "source": [
        "margin_accuracy = test_accuracy"
      ],
      "execution_count": null,
      "outputs": []
    },
    {
      "cell_type": "code",
      "metadata": {
        "id": "dmQWhLiav62r"
      },
      "source": [
        "uncertainty_accuracy = test_accuracy"
      ],
      "execution_count": null,
      "outputs": []
    },
    {
      "cell_type": "code",
      "metadata": {
        "id": "IwUaAIWxwO0V"
      },
      "source": [
        "entropy_accuracy = test_accuracy"
      ],
      "execution_count": null,
      "outputs": []
    },
    {
      "cell_type": "code",
      "metadata": {
        "colab": {
          "base_uri": "https://localhost:8080/",
          "height": 737
        },
        "id": "AlvspHK3wVBm",
        "outputId": "c05492ce-1147-4658-c5b3-b69007d28679"
      },
      "source": [
        "import matplotlib as mpl\n",
        "import matplotlib.pyplot as plt\n",
        "\n",
        "fig, ax = plt.subplots(figsize = (8.5, 6), dpi = 130)\n",
        "\n",
        "ax.plot(range(10, 101, 10), margin_accuracy[1:11], color = 'green', label = 'Margin Sampling')\n",
        "ax.plot(range(10, 101, 10), uncertainty_accuracy[1:11], color = 'orange', label = 'Uncertainty Sampling')\n",
        "ax.plot(range(10, 101, 10), entropy_accuracy[1:11], color = 'blue', label = 'Entropy Sampling')\n",
        "ax.legend(loc = 'lower right')\n",
        "\n",
        "ax.xaxis.set_major_locator(mpl.ticker.MaxNLocator(nbins = 5, integer = True))\n",
        "ax.yaxis.set_major_locator(mpl.ticker.MaxNLocator(nbins = 10))\n",
        "ax.yaxis.set_major_formatter(mpl.ticker.PercentFormatter(xmax = 1))\n",
        "\n",
        "ax.set_ylim(bottom = 0, top = 1)\n",
        "\n",
        "ax.set_title('Active Learning classification \\n Initial Sample: 10, Batch Size: 10')\n",
        "ax.set_xlabel('Labeled Examples')\n",
        "ax.set_ylabel('Test Accuracy')\n",
        "\n",
        "plt.show()\n",
        "fig.savefig('/content/drive/MyDrive/Colab Notebooks/AI/plot.png', dpi = 1840)"
      ],
      "execution_count": null,
      "outputs": [
        {
          "output_type": "display_data",
          "data": {
            "image/png": "[encoded data removed]",
            "text/plain": [
              "<Figure size 1105x780 with 1 Axes>"
            ]
          },
          "metadata": {
            "needs_background": "light"
          }
        }
      ]
    },
    {
      "cell_type": "code",
      "metadata": {
        "id": "BMarID7DygUq"
      },
      "source": [
        ""
      ],
      "execution_count": null,
      "outputs": []
    }
  ]
}